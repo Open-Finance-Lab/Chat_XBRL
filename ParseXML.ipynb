{
 "cells": [
  {
   "cell_type": "code",
   "execution_count": null,
   "metadata": {
    "vscode": {
     "languageId": "plaintext"
    }
   },
   "outputs": [],
   "source": [
    "import xml.etree.ElementTree as ET\n",
    "import json"
   ]
  },
  {
   "cell_type": "markdown",
   "metadata": {},
   "source": [
    "# Define instructions and response formats for queries"
   ]
  },
  {
   "cell_type": "code",
   "execution_count": null,
   "metadata": {
    "vscode": {
     "languageId": "plaintext"
    }
   },
   "outputs": [],
   "source": [
    "instructions = {\n",
    "    \"formula_calculation\": (\n",
    "        \"The value must be calculated based on the exact numbers found in the source document. \"\n",
    "        \"The value must be consolidated from the main company, excluding any segment or scenario-specific data. \"\n",
    "        \"Ensure the correct context reference is used for the calculation (e.g., consolidated financials). \"\n",
    "        \"Provide the result either as a numeric value or a percentage, depending on the financial ratio.\"\n",
    "    ),\n",
    "    \"xbrl_tags\": (\n",
    "        \"The answer must be the exact consolidated tag found in the source document. \"\n",
    "        \"Also take any company-created or customized tags into consideration if they are relevant. \"\n",
    "        \"Provide the final XBRL tag as it appears in the source.\"\n",
    "    ),\n",
    "    \"value\": (\n",
    "        \"The value must be consolidated from the main company and should not include values from any segments or specific scenarios. \"\n",
    "        \"The answer must be the exact figure found in the source document. \"\n",
    "        \"Provide the exact value and format it as a monetary value in $ billion. Do not round the figure.\"\n",
    "    ),\n",
    "    \"formula_formatted_with_tags\": (\n",
    "        \"The formula must consist of the relevant XBRL tags found in the source document. \"\n",
    "        \"Take any company-created or customized tags into consideration if applicable. \"\n",
    "        \"Provide the full formula according to the structure of the specific financial ratio, \"\n",
    "        \"using the exact XBRL tags as they appear in the source.\"\n",
    "    )\n",
    "}"
   ]
  },
  {
   "cell_type": "code",
   "execution_count": null,
   "metadata": {
    "vscode": {
     "languageId": "plaintext"
    }
   },
   "outputs": [],
   "source": [
    "response_format = {\n",
    "    \"formula_calculation\": \"For numeric values: \\\"Answer: {number}\\\" For percentage values: \\\"Answer: {number}%\\\"\",\n",
    "    \"xbrl_tags\": \"Answer: {XBRL tag}\",\n",
    "    \"value\": \"Answer: $[value] billion\",\n",
    "    \"formula_formatted_with_tags\": \"Answer: {Complete formula with XBRL tags}\"\n",
    "}"
   ]
  },
  {
   "cell_type": "markdown",
   "metadata": {},
   "source": [
    "# Function to extract XBRL tags from XML files\n",
    "\"\"\"\n",
    "    Extracts XBRL tags and related context from XML files based on input queries.\n",
    "\n",
    "    Args:\n",
    "        queries (list): List of queries with associated metadata.\n",
    "\n",
    "    Returns:\n",
    "        list: Extracted and formatted results for queries.\n",
    "    \"\"\""
   ]
  },
  {
   "cell_type": "code",
   "execution_count": null,
   "metadata": {
    "vscode": {
     "languageId": "plaintext"
    }
   },
   "outputs": [],
   "source": [
    "def extract_xbrl_tags(queries):\n",
    "  results = []\n",
    "  max_results = 10  # Limit the number of processed queries\n",
    "\n",
    "  for idx, query in enumerate(queries):\n",
    "    if len(results) >= max_results:\n",
    "      break\n",
    "    if query['category2'] != 'formula_calculation':\n",
    "      continue\n",
    "\n",
    "    doc_path = f\"./DowJones30/{query['doc_path']}\"\n",
    "    print(f\"Processing file: {doc_path}\")\n",
    "    tags = query.get('id', [])\n",
    "\n",
    "    if not tags:\n",
    "      continue\n",
    "\n",
    "    try:\n",
    "      tree = ET.parse(doc_path)\n",
    "      root = tree.getroot()\n",
    "    except FileNotFoundError:\n",
    "      print(f\"File not found: {doc_path}\")\n",
    "      continue\n",
    "    except ET.ParseError as e:\n",
    "      print(f\"XML Parsing Error in {doc_path}: {e}\")\n",
    "      continue\n",
    "\n",
    "    # Gather all elements with 'id' attributes\n",
    "    id_elements = [(elem.get('id'), elem) for elem in root.iter() if elem.get('id')]\n",
    "\n",
    "    extracted_data = []\n",
    "    tag_set = set(tags)  # Create a set of target tags for fast lookup\n",
    "    window_size = max(1, 100 // len(tags)) if tags else 0  # Set window size for related context\n",
    "\n",
    "    # Extract relevant data within the context window\n",
    "    for idx, (elem_id, elem) in enumerate(id_elements):\n",
    "      if elem_id in tag_set:\n",
    "        start = max(0, idx - window_size // 2)\n",
    "        end = min(len(id_elements), idx + window_size // 2 + 1)\n",
    "        for _, current_elem in id_elements[start:end]:\n",
    "          extracted_data.append(format_element_data(current_elem))\n",
    "\n",
    "    # Format the result if data is extracted\n",
    "    if extracted_data:\n",
    "      results.append({\n",
    "        \"id\": len(results) + 1,\n",
    "        \"Query\": query['query'],\n",
    "        \"Context\": ''.join(extracted_data),\n",
    "        \"Additional Instructions\": instructions[query['category2']],\n",
    "        \"Response Formats\": response_format[query['category2']]\n",
    "      })\n",
    "\n",
    "  return results"
   ]
  },
  {
   "cell_type": "markdown",
   "metadata": {},
   "source": [
    "# Helper function to format XML element data\n",
    "\"\"\"\n",
    "    Formats XML element data into a readable string.\n",
    "\n",
    "    Args:\n",
    "        elem (Element): XML element to format.\n",
    "\n",
    "    Returns:\n",
    "        str: Formatted string representation of the element.\n",
    "    \"\"\""
   ]
  },
  {
   "cell_type": "code",
   "execution_count": null,
   "metadata": {
    "vscode": {
     "languageId": "plaintext"
    }
   },
   "outputs": [],
   "source": [
    "def format_element_data(elem):\n",
    "  return (\n",
    "    f\"file:{elem.get('contextRef', 'None')}.xml\\n\"\n",
    "    f\"<{elem.tag} contextRef=\\\"{elem.get('contextRef', 'None')}\\\" \"\n",
    "    f\"decimals=\\\"{elem.get('decimals', 'None')}\\\" \"\n",
    "    f\"id=\\\"{elem.get('id', 'None')}\\\" \"\n",
    "    f\"unitRef=\\\"{elem.get('unitRef', 'None')}\\\">{elem.text.strip() if elem.text else 'None'}</{elem.tag}>\\n\"\n",
    "  )"
   ]
  },
  {
   "cell_type": "markdown",
   "metadata": {},
   "source": [
    "# Load queries from a JSON file"
   ]
  },
  {
   "cell_type": "code",
   "execution_count": null,
   "metadata": {
    "vscode": {
     "languageId": "plaintext"
    }
   },
   "outputs": [],
   "source": [
    "with open('./XBRL.json', 'r') as file:\n",
    "  queries = json.load(file)"
   ]
  },
  {
   "cell_type": "markdown",
   "metadata": {},
   "source": [
    "# Extract XBRL tags and related context\n"
   ]
  },
  {
   "cell_type": "code",
   "execution_count": null,
   "metadata": {
    "vscode": {
     "languageId": "plaintext"
    }
   },
   "outputs": [],
   "source": [
    "formatted_results = extract_xbrl_tags(queries)"
   ]
  },
  {
   "cell_type": "markdown",
   "metadata": {},
   "source": [
    "# Convert results to JSON format for saving or printing"
   ]
  },
  {
   "cell_type": "code",
   "execution_count": null,
   "metadata": {
    "vscode": {
     "languageId": "plaintext"
    }
   },
   "outputs": [],
   "source": [
    "formatted_json = json.dumps(formatted_results, indent=4)"
   ]
  },
  {
   "cell_type": "markdown",
   "metadata": {},
   "source": [
    "# Save the results to a file"
   ]
  },
  {
   "cell_type": "code",
   "execution_count": null,
   "metadata": {
    "vscode": {
     "languageId": "plaintext"
    }
   },
   "outputs": [],
   "source": [
    "with open('./formula_calculation.json', 'w') as outfile:\n",
    "  outfile.write(formatted_json)"
   ]
  },
  {
   "cell_type": "code",
   "execution_count": null,
   "metadata": {
    "vscode": {
     "languageId": "plaintext"
    }
   },
   "outputs": [],
   "source": [
    "print(\"Results have been saved to 'formula_calculation.json'\")"
   ]
  }
 ],
 "metadata": {
  "language_info": {
   "name": "python"
  }
 },
 "nbformat": 4,
 "nbformat_minor": 2
}
