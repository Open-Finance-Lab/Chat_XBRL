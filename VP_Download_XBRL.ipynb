{
  "cells": [
    {
      "cell_type": "markdown",
      "metadata": {
        "id": "wjT1m9IJuoJE"
      },
      "source": [
        "# Functions"
      ]
    },
    {
      "cell_type": "code",
      "execution_count": null,
      "metadata": {
        "colab": {
          "base_uri": "https://localhost:8080/",
          "height": 316
        },
        "id": "XQCtEKccj0Fc",
        "outputId": "408683a2-77d7-4641-c91e-541907594c45"
      },
      "outputs": [
        {
          "ename": "",
          "evalue": "",
          "output_type": "error",
          "traceback": [
            "\u001b[1;31mFailed to start the Kernel. \n",
            "\u001b[1;31mCondaValueError: Malformed version string '~': invalid character(s). \n",
            "\u001b[1;31mView Jupyter <a href='command:jupyter.viewOutput'>log</a> for further details."
          ]
        }
      ],
      "source": [
        "import requests\n",
        "import json\n",
        "import os\n",
        "from xml.etree import ElementTree\n",
        "from urllib.parse import urljoin\n",
        "\n",
        "# Function to read CIK numbers from a JSON file\n",
        "def load_cik_numbers_from_json(json_file_path):\n",
        "    with open(json_file_path, 'r') as file:\n",
        "        data = json.load(file)\n",
        "    return data\n",
        "\n",
        "# Function to get the CIK number and company name (modified to take directly from JSON)\n",
        "def get_cik_from_json_entry(entry):\n",
        "    cik_number = entry.get('cik')\n",
        "    company_name = entry.get('name')\n",
        "    if not company_name or not cik_number:\n",
        "        return None, None\n",
        "    return cik_number, company_name\n",
        "\n",
        "\n",
        "# # Example usage\n",
        "json_file_path = \"/content/sample_data/parsed_companies1.json\"\n",
        "cik_number, company_name = get_cik_from_json_entry(json_file_path)\n",
        "print(f\"CIK Number for {company_name}: {cik_number}\")\n",
        "print(f\"Ticker Symbol for {company_name}: {ticker_symbol}\")\n"
      ]
    },
    {
      "cell_type": "code",
      "execution_count": null,
      "metadata": {
        "id": "6plvCPwGj0IA"
      },
      "outputs": [
        {
          "ename": "",
          "evalue": "",
          "output_type": "error",
          "traceback": [
            "\u001b[1;31mFailed to start the Kernel. \n",
            "\u001b[1;31mCondaValueError: Malformed version string '~': invalid character(s). \n",
            "\u001b[1;31mView Jupyter <a href='command:jupyter.viewOutput'>log</a> for further details."
          ]
        }
      ],
      "source": [
        "#Load queries from JSON file\n",
        "with open('/parsed_companies1.json', 'r') as file:\n",
        "    queries = json.load(file)\n"
      ]
    },
    {
      "cell_type": "code",
      "execution_count": null,
      "metadata": {
        "id": "V-i5d-Usj0K8"
      },
      "outputs": [
        {
          "ename": "",
          "evalue": "",
          "output_type": "error",
          "traceback": [
            "\u001b[1;31mFailed to start the Kernel. \n",
            "\u001b[1;31mCondaValueError: Malformed version string '~': invalid character(s). \n",
            "\u001b[1;31mView Jupyter <a href='command:jupyter.viewOutput'>log</a> for further details."
          ]
        }
      ],
      "source": [
        "#Run the function and get results\n",
        "formatted_results = extract_xbrl_tags(queries)"
      ]
    },
    {
      "cell_type": "code",
      "execution_count": null,
      "metadata": {
        "colab": {
          "base_uri": "https://localhost:8080/"
        },
        "id": "5GRNIZG8j0NV",
        "outputId": "f89e3dd6-57a2-47f2-8030-c0fd5a2f6391"
      },
      "outputs": [
        {
          "ename": "",
          "evalue": "",
          "output_type": "error",
          "traceback": [
            "\u001b[1;31mFailed to start the Kernel. \n",
            "\u001b[1;31mCondaValueError: Malformed version string '~': invalid character(s). \n",
            "\u001b[1;31mView Jupyter <a href='command:jupyter.viewOutput'>log</a> for further details."
          ]
        }
      ],
      "source": [
        "# Serialize the results to JSON\n",
        "formatted_json = json.dumps(formatted_results, indent=4)\n",
        "#Optionally, save the formatted JSON back to a file\n",
        "with open('./Updated_XBRL.json', 'w') as outfile:\n",
        "    outfile.write(formatted_json)"
      ]
    }
  ],
  "metadata": {
    "colab": {
      "provenance": []
    },
    "kernelspec": {
      "display_name": "Python 3.10.8",
      "language": "python",
      "name": "python3"
    },
    "language_info": {
      "name": "python",
      "version": "3.10.8"
    },
    "vscode": {
      "interpreter": {
        "hash": "c471af32577ddab63f095f82df3212088a34ade920e90184949400541e1ccd72"
      }
    }
  },
  "nbformat": 4,
  "nbformat_minor": 0
}
