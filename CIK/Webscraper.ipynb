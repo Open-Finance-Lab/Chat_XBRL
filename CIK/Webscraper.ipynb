{
 "cells": [
  {
   "cell_type": "code",
   "execution_count": null,
   "metadata": {
    "colab": {
     "base_uri": "https://localhost:8080/",
     "height": 297
    },
    "id": "uQhtdTHxd41x",
    "outputId": "00a512db-918c-4057-f89a-af645713fd04"
   },
   "outputs": [],
   "source": [
    "import requests\n",
    "from bs4 import BeautifulSoup\n",
    "import json\n",
    "\n",
    "# This Python script scrapes a webpage containing a table to extract classification and badge data, \n",
    "# updates a metadata JSON file, and saves the updated content. Users can specify the output file path during \n",
    "# runtime; if the file does not exist, it creates a new one. The script includes error handling for missing tables, \n",
    "# invalid file paths, and webpage fetching issues, ensuring robustness and user-friendly interaction.\n",
    "\n",
    "\n",
    "# URL of the website containing the table\n",
    "table_url = \"https://mot.isitopen.ai/\" \n",
    "\n",
    "# metadata file that should be adjusted\n",
    "metadata_file_path = \"metadata.json\"\n",
    "\n",
    "def scrape_table_and_update_metadata():\n",
    "    try:\n",
    "        #Fetch the webpage \n",
    "        response = requests.get(table_url, timeout=10) \n",
    "        response.raise_for_status() \n",
    "\n",
    "        #parse content\n",
    "        soup = BeautifulSoup(response.text, \"html.parser\")\n",
    "\n",
    "        #get table elements\n",
    "        table = soup.find(\"table\")\n",
    "\n",
    "        #error checking\n",
    "        if not table:  \n",
    "            raise ValueError(\"No table found on the webpage. Please check the URL or structure of the page.\")\n",
    "        \n",
    "        #Extract classification and badge data from the table\n",
    "        rows = table.find_all(\"tr\")\n",
    "        extracted_data = []  \n",
    "\n",
    "        for row in rows[1:]: \n",
    "            cells = row.find_all(\"td\")  \n",
    "            if len(cells) >= 3: \n",
    "                classification = cells[2].get_text(strip=True)\n",
    "                badge = cells[4].get_text(strip=True)\n",
    "                extracted_data.append({\"classification\": classification, \"badge\": badge})\n",
    "\n",
    "        # Print the extracted data for verification\n",
    "        print(\"Extracted Data:\", extracted_data)\n",
    "\n",
    "        # Read and update the metadata file\n",
    "        try:\n",
    "            with open(metadata_file_path, \"r\") as file:\n",
    "                metadata = json.load(file)  \n",
    "        except FileNotFoundError:\n",
    "            print(f\"Metadata file '{metadata_file_path}' not found. Creating a new file.\")\n",
    "            metadata = {}  \n",
    "\n",
    "        # Assuming we are updating a specific key in the metadata for demonstration\n",
    "        if extracted_data:\n",
    "            metadata[\"classification\"] = extracted_data[0].get(\"classification\", \"N/A\") \n",
    "            metadata[\"badge\"] = extracted_data[0].get(\"badge\", \"N/A\")\n",
    "\n",
    "        #Write the updated metadata back to the file\n",
    "        with open(metadata_file_path, \"w\") as file:\n",
    "            json.dump(metadata, file, indent=4)\n",
    "            print(f\"Metadata updated and saved to '{metadata_file_path}'.\")\n",
    "\n",
    "    except requests.exceptions.RequestException as e:\n",
    "        print(f\"Error fetching the webpage: {e}\")\n",
    "    except ValueError as e:\n",
    "        print(f\"Error processing the webpage: {e}\")\n",
    "    except json.JSONDecodeError:\n",
    "        print(\"Error: Failed to parse the metadata JSON file. Ensure it is valid JSON.\")\n",
    "    except Exception as e:\n",
    "        print(f\"An unexpected error occurred: {e}\")\n",
    "\n",
    "scrape_table_and_update_metadata()\n"
   ]
  },
  {
   "cell_type": "markdown",
   "metadata": {},
   "source": [
    "Extracted Data: [{'classification': '2024-11-22', 'badge': 'Class I - Open ScienceClass I - Open ScienceQualifiedQualified'}, {'classification': '2024-11-15', 'badge': 'Class II - Open ToolingClass II - Open ToolingIn progress (50%)In progress (50%)Class III - Open ModelClass III - Open ModelQualifiedQualified'}, {'classification': '2024-11-15', 'badge': 'Class II - Open ToolingClass II - Open ToolingIn progress (50%)In progress (50%)Class III - Open ModelClass III - Open ModelQualifiedQualified'}, {'classification': '2024-11-15', 'badge': 'Class II - Open ToolingClass II - Open ToolingIn progress (50%)In progress (50%)Class III - Open ModelClass III - Open ModelQualifiedQualified'}, {'classification': '2024-11-15', 'badge': 'Class II - Open ToolingClass II - Open ToolingIn progress (40%)In progress (40%)Class III - Open ModelClass III - Open ModelQualifiedQualified'}, {'classification': '2024-11-15', 'badge': 'Class II - Open ToolingClass II - Open ToolingIn progress (30%)In progress (30%)Class III - Open ModelClass III - Open ModelQualifiedQualified'}, {'classification': '2024-11-15', 'badge': 'Class III - Open ModelClass III - Open ModelQualifiedQualified'}, {'classification': '2024-11-15', 'badge': 'Class III - Open ModelClass III - Open ModelQualifiedQualified'}, {'classification': '2024-11-15', 'badge': 'Class III - Open ModelClass III - Open ModelQualifiedQualified'}, {'classification': '2024-11-15', 'badge': 'Class III - Open ModelClass III - Open ModelQualifiedQualified'}, {'classification': '2024-11-15', 'badge': 'Class II - Open ToolingClass II - Open ToolingIn progress (20%)In progress (20%)Class III - Open ModelClass III - Open ModelQualifiedQualified'}, {'classification': '2024-11-15', 'badge': 'Class II - Open ToolingClass II - Open ToolingIn progress (20%)In progress (20%)Class III - Open ModelClass III - Open ModelQualifiedQualified'}, {'classification': '2024-11-15', 'badge': 'Class II - Open ToolingClass II - Open ToolingIn progress (20%)In progress (20%)Class III - Open ModelClass III - Open ModelQualifiedQualified'}, {'classification': '2024-11-15', 'badge': 'Class II - Open ToolingClass II - Open ToolingIn progress (20%)In progress (20%)Class III - Open ModelClass III - Open ModelQualifiedQualified'}, {'classification': '2024-11-15', 'badge': 'Class II - Open ToolingClass II - Open ToolingIn progress (20%)In progress (20%)Class III - Open ModelClass III - Open ModelQualifiedQualified'}, {'classification': '2024-11-15', 'badge': 'Class II - Open ToolingClass II - Open ToolingIn progress (20%)In progress (20%)Class III - Open ModelClass III - Open ModelQualifiedQualified'}, {'classification': '2024-11-15', 'badge': 'Class II - Open ToolingClass II - Open ToolingIn progress (20%)In progress (20%)Class III - Open ModelClass III - Open ModelQualifiedQualified'}, {'classification': '2024-11-15', 'badge': 'Class II - Open ToolingClass II - Open ToolingIn progress (20%)In progress (20%)Class III - Open ModelClass III - Open ModelQualifiedQualified'}, {'classification': '2024-11-15', 'badge': 'Class II - Open ToolingClass II - Open ToolingIn progress (20%)In progress (20%)Class III - Open ModelClass III - Open ModelQualifiedQualified'}, {'classification': '2024-11-15', 'badge': 'Class II - Open ToolingClass II - Open ToolingIn progress (20%)In progress (20%)Class III - Open ModelClass III - Open ModelQualifiedQualified'}, {'classification': '2024-11-15', 'badge': 'Class II - Open ToolingClass II - Open ToolingIn progress (20%)In progress (20%)Class III - Open ModelClass III - Open ModelQualifiedQualified'}, {'classification': '2024-11-15', 'badge': 'Class II - Open ToolingClass II - Open ToolingIn progress (20%)In progress (20%)Class III - Open ModelClass III - Open ModelQualifiedQualified'}, {'classification': '2024-11-15', 'badge': 'Class II - Open ToolingClass II - Open ToolingIn progress (20%)In progress (20%)Class III - Open ModelClass III - Open ModelQualifiedQualified'}, {'classification': '2024-11-15', 'badge': 'Class II - Open ToolingClass II - Open ToolingIn progress (20%)In progress (20%)Class III - Open ModelClass III - Open ModelQualifiedQualified'}, {'classification': '2024-11-15', 'badge': 'Class II - Open ToolingClass II - Open ToolingIn progress (20%)In progress (20%)Class III - Open ModelClass III - Open ModelQualifiedQualified'}, {'classification': '2024-11-15', 'badge': 'Class II - Open ToolingClass II - Open ToolingIn progress (20%)In progress (20%)Class III - Open ModelClass III - Open ModelQualifiedQualified'}, {'classification': '2024-11-15', 'badge': 'Class II - Open ToolingClass II - Open ToolingIn progress (20%)In progress (20%)Class III - Open ModelClass III - Open ModelQualifiedQualified'}, {'classification': '2024-11-15', 'badge': 'Class II - Open ToolingClass II - Open ToolingIn progress (20%)In progress (20%)Class III - Open ModelClass III - Open ModelQualifiedQualified'}, {'classification': '2024-11-15', 'badge': 'Class II - Open ToolingClass II - Open ToolingIn progress (20%)In progress (20%)Class III - Open ModelClass III - Open ModelQualifiedQualified'}, {'classification': '2024-11-15', 'badge': 'Class II - Open ToolingClass II - Open ToolingIn progress (20%)In progress (20%)Class III - Open ModelClass III - Open ModelQualifiedQualified'}, {'classification': '2024-11-15', 'badge': 'Class II - Open ToolingClass II - Open ToolingIn progress (20%)In progress (20%)Class III - Open ModelClass III - Open ModelQualifiedQualified'}, {'classification': '2024-11-15', 'badge': 'Class II - Open ToolingClass II - Open ToolingIn progress (20%)In progress (20%)Class III - Open ModelClass III - Open ModelQualifiedQualified'}, {'classification': '2024-11-15', 'badge': 'Class II - Open ToolingClass II - Open ToolingIn progress (20%)In progress (20%)Class III - Open ModelClass III - Open ModelQualifiedQualified'}, {'classification': '2024-11-15', 'badge': 'Class II - Open ToolingClass II - Open ToolingIn progress (10%)In progress (10%)Class III - Open ModelClass III - Open ModelQualifiedQualified'}, {'classification': '2024-11-15', 'badge': 'Class II - Open ToolingClass II - Open ToolingIn progress (10%)In progress (10%)Class III - Open ModelClass III - Open ModelQualifiedQualified'}, {'classification': '2024-11-15', 'badge': 'Class II - Open ToolingClass II - Open ToolingIn progress (10%)In progress (10%)Class III - Open ModelClass III - Open ModelQualifiedQualified'}, {'classification': '2024-10-03', 'badge': 'Class III - Open ModelClass III - Open ModelQualifiedQualified'}, {'classification': '2024-10-03', 'badge': 'Class III - Open ModelClass III - Open ModelQualifiedQualified'}, {'classification': '2024-11-15', 'badge': 'Class III - Open ModelClass III - Open ModelQualifiedQualified'}, {'classification': '2024-11-15', 'badge': ''}, {'classification': '2024-11-15', 'badge': ''}, {'classification': '2024-11-15', 'badge': ''}, {'classification': '2024-11-15', 'badge': ''}, {'classification': '2024-11-15', 'badge': ''}, {'classification': '2024-11-20', 'badge': ''}, {'classification': '2024-11-15', 'badge': ''}, {'classification': '2024-11-15', 'badge': 'Class III - Open ModelClass III - Open ModelIn progress (17%)In progress (17%)'}, {'classification': '2024-11-15', 'badge': ''}, {'classification': '2024-11-20', 'badge': 'Class III - Open ModelClass III - Open ModelIn progress (17%)In progress (17%)'}, {'classification': '2024-11-15', 'badge': ''}]\n",
    "Metadata file 'metadata.json' not found. Creating a new file.\n",
    "Metadata updated and saved to 'metadata.json'."
   ]
  }
 ],
 "metadata": {
  "colab": {
   "provenance": []
  },
  "kernelspec": {
   "display_name": "Python 3",
   "name": "python3"
  },
  "language_info": {
   "name": "python"
  }
 },
 "nbformat": 4,
 "nbformat_minor": 0
}
