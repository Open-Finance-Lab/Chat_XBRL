{
  "nbformat": 4,
  "nbformat_minor": 0,
  "metadata": {
    "colab": {
      "provenance": []
    },
    "kernelspec": {
      "name": "python3",
      "display_name": "Python 3"
    },
    "language_info": {
      "name": "python"
    }
  },
  "cells": [
    {
      "cell_type": "code",
      "execution_count": null,
      "metadata": {
        "colab": {
          "base_uri": "https://localhost:8080/",
          "height": 297
        },
        "id": "uQhtdTHxd41x",
        "outputId": "00a512db-918c-4057-f89a-af645713fd04"
      },
      "outputs": [
        {
          "output_type": "error",
          "ename": "FileNotFoundError",
          "evalue": "[Errno 2] No such file or directory: 'metadata.json'",
          "traceback": [
            "\u001b[0;31m---------------------------------------------------------------------------\u001b[0m",
            "\u001b[0;31mFileNotFoundError\u001b[0m                         Traceback (most recent call last)",
            "\u001b[0;32m<ipython-input-1-9f05251dee08>\u001b[0m in \u001b[0;36m<cell line: 46>\u001b[0;34m()\u001b[0m\n\u001b[1;32m     44\u001b[0m \u001b[0;31m# Scrape table and update metadata\u001b[0m\u001b[0;34m\u001b[0m\u001b[0;34m\u001b[0m\u001b[0m\n\u001b[1;32m     45\u001b[0m \u001b[0mtable_data\u001b[0m \u001b[0;34m=\u001b[0m \u001b[0mscrape_table\u001b[0m\u001b[0;34m(\u001b[0m\u001b[0mtable_url\u001b[0m\u001b[0;34m)\u001b[0m\u001b[0;34m\u001b[0m\u001b[0;34m\u001b[0m\u001b[0m\n\u001b[0;32m---> 46\u001b[0;31m \u001b[0mupdate_metadata\u001b[0m\u001b[0;34m(\u001b[0m\u001b[0mmetadata_path\u001b[0m\u001b[0;34m,\u001b[0m \u001b[0mtable_data\u001b[0m\u001b[0;34m)\u001b[0m\u001b[0;34m\u001b[0m\u001b[0;34m\u001b[0m\u001b[0m\n\u001b[0m",
            "\u001b[0;32m<ipython-input-1-9f05251dee08>\u001b[0m in \u001b[0;36mupdate_metadata\u001b[0;34m(metadata_path, updates)\u001b[0m\n\u001b[1;32m     25\u001b[0m \u001b[0;31m# Step 2: Update Metadata JSON\u001b[0m\u001b[0;34m\u001b[0m\u001b[0;34m\u001b[0m\u001b[0m\n\u001b[1;32m     26\u001b[0m \u001b[0;32mdef\u001b[0m \u001b[0mupdate_metadata\u001b[0m\u001b[0;34m(\u001b[0m\u001b[0mmetadata_path\u001b[0m\u001b[0;34m,\u001b[0m \u001b[0mupdates\u001b[0m\u001b[0;34m)\u001b[0m\u001b[0;34m:\u001b[0m\u001b[0;34m\u001b[0m\u001b[0;34m\u001b[0m\u001b[0m\n\u001b[0;32m---> 27\u001b[0;31m     \u001b[0;32mwith\u001b[0m \u001b[0mopen\u001b[0m\u001b[0;34m(\u001b[0m\u001b[0mmetadata_path\u001b[0m\u001b[0;34m,\u001b[0m \u001b[0;34m'r'\u001b[0m\u001b[0;34m)\u001b[0m \u001b[0;32mas\u001b[0m \u001b[0mfile\u001b[0m\u001b[0;34m:\u001b[0m\u001b[0;34m\u001b[0m\u001b[0;34m\u001b[0m\u001b[0m\n\u001b[0m\u001b[1;32m     28\u001b[0m         \u001b[0mmetadata\u001b[0m \u001b[0;34m=\u001b[0m \u001b[0mjson\u001b[0m\u001b[0;34m.\u001b[0m\u001b[0mload\u001b[0m\u001b[0;34m(\u001b[0m\u001b[0mfile\u001b[0m\u001b[0;34m)\u001b[0m\u001b[0;34m\u001b[0m\u001b[0;34m\u001b[0m\u001b[0m\n\u001b[1;32m     29\u001b[0m \u001b[0;34m\u001b[0m\u001b[0m\n",
            "\u001b[0;31mFileNotFoundError\u001b[0m: [Errno 2] No such file or directory: 'metadata.json'"
          ]
        }
      ],
      "source": [
        "import json\n",
        "import requests\n",
        "from bs4 import BeautifulSoup\n",
        "\n",
        "# Step 1: Scrape Data from Web Table\n",
        "def scrape_table(url):\n",
        "    # Fetch the webpage\n",
        "    response = requests.get(url)\n",
        "    soup = BeautifulSoup(response.text, 'html.parser')\n",
        "\n",
        "    # Find the table rows\n",
        "    table = soup.find('table')  # Adjust selector based on actual HTML structure\n",
        "    rows = table.find_all('tr')[1:]  # Skip the header row\n",
        "\n",
        "    # Extract Classification and Badge columns\n",
        "    data = {}\n",
        "    for row in rows:\n",
        "        columns = row.find_all('td')\n",
        "        name = columns[0].text.strip()\n",
        "        classification = columns[2].text.strip()\n",
        "        badge = columns[4].text.strip()\n",
        "        data[name] = {'classification': classification, 'badge': badge}\n",
        "    return data\n",
        "\n",
        "# Step 2: Update Metadata JSON\n",
        "def update_metadata(metadata_path, updates):\n",
        "    with open(metadata_path, 'r') as file:\n",
        "        metadata = json.load(file)\n",
        "\n",
        "    # Update classification and badge\n",
        "    for model_name, details in updates.items():\n",
        "        if metadata.get('release', {}).get('name') == model_name:\n",
        "            metadata['classification'] = details['classification']\n",
        "            metadata['badge'] = details['badge']\n",
        "\n",
        "    # Save back to file\n",
        "    with open(metadata_path, 'w') as file:\n",
        "        json.dump(metadata, file, indent=4)\n",
        "\n",
        "# Example Usage\n",
        "table_url = 'https://mot.isitopen.ai/'  # Replace with actual URL of the table\n",
        "metadata_path = 'metadata.json'  # Replace with the uploaded JSON file\n",
        "\n",
        "# Scrape table and update metadata\n",
        "table_data = scrape_table(table_url)\n",
        "update_metadata(metadata_path, table_data)\n"
      ]
    }
  ]
}